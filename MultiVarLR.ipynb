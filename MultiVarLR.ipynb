{
 "cells": [
  {
   "cell_type": "code",
   "execution_count": 3,
   "id": "9c0b7bab",
   "metadata": {},
   "outputs": [],
   "source": [
    "import numpy as np\n",
    "import matplotlib.pyplot as plt\n",
    "import copy\n",
    "import math\n",
    "%matplotlib inline\n",
    "import pandas as pd\n",
    "\n"
   ]
  },
  {
   "cell_type": "code",
   "execution_count": 4,
   "id": "20818d18",
   "metadata": {},
   "outputs": [
    {
     "name": "stdout",
     "output_type": "stream",
     "text": [
      "Features (X):\n",
      "[[2.104e+03 3.000e+00 1.500e+01 5.000e+00]\n",
      " [1.600e+03 3.000e+00 2.000e+01 6.500e+00]\n",
      " [2.400e+03 3.000e+00 1.000e+01 4.000e+00]\n",
      " [1.416e+03 2.000e+00 2.500e+01 8.000e+00]\n",
      " [3.000e+03 4.000e+00 8.000e+00 3.500e+00]\n",
      " [1.985e+03 4.000e+00 1.200e+01 4.200e+00]\n",
      " [1.534e+03 3.000e+00 3.000e+01 6.000e+00]\n",
      " [1.427e+03 3.000e+00 2.000e+01 5.500e+00]\n",
      " [1.380e+03 3.000e+00 1.800e+01 7.000e+00]\n",
      " [1.494e+03 3.000e+00 2.400e+01 7.500e+00]] <class 'numpy.ndarray'>\n",
      "\n",
      "Target (y):\n",
      "[400 330 369 232 540 400 315 280 275 299] <class 'numpy.ndarray'>\n"
     ]
    }
   ],
   "source": [
    "import pandas as pd\n",
    "import numpy as np\n",
    "\n",
    "# Create the dataset\n",
    "data = {\n",
    "    'Size_sqft': [2104, 1600, 2400, 1416, 3000, 1985, 1534, 1427, 1380, 1494],\n",
    "    'Bedrooms': [3, 3, 3, 2, 4, 4, 3, 3, 3, 3],\n",
    "    'Age': [15, 20, 10, 25, 8, 12, 30, 20, 18, 24],\n",
    "    'Distance_km': [5.0, 6.5, 4.0, 8.0, 3.5, 4.2, 6.0, 5.5, 7.0, 7.5],\n",
    "    'Price_k': [400, 330, 369, 232, 540, 400, 315, 280, 275, 299]\n",
    "}\n",
    "\n",
    "# Load into a DataFrame\n",
    "df = pd.DataFrame(data)\n",
    "\n",
    "# Split into features (X) and target (y)\n",
    "X = df[['Size_sqft', 'Bedrooms', 'Age', 'Distance_km']].values\n",
    "y = df['Price_k'].values\n",
    "\n",
    "# Preview\n",
    "print(\"Features (X):\")\n",
    "print(X, type(X))\n",
    "print(\"\\nTarget (y):\")\n",
    "print(y, type(y))\n"
   ]
  },
  {
   "cell_type": "markdown",
   "id": "f0b064d0",
   "metadata": {},
   "source": [
    "Predict\n"
   ]
  },
  {
   "cell_type": "code",
   "execution_count": 5,
   "id": "600f2d3b",
   "metadata": {},
   "outputs": [],
   "source": [
    "def predict(w, x, b):\n",
    "\n",
    "    return np.dot(w, x)+b"
   ]
  },
  {
   "cell_type": "markdown",
   "id": "bc1ef2a8",
   "metadata": {},
   "source": [
    "Cost Function"
   ]
  },
  {
   "cell_type": "code",
   "execution_count": 6,
   "id": "f82a80e4",
   "metadata": {},
   "outputs": [],
   "source": [
    "def get_cost(w, x, y, b):\n",
    "\n",
    "    n=len(w)\n",
    "    cost=0\n",
    "\n",
    "    for i in range(n):\n",
    "        f_wb_i= np.dot(x[i], w)+b\n",
    "        cost=cost+(y[i]-f_wb_i)**2\n",
    "    \n",
    "    cost=cst/(2*m)\n",
    "    return cost\n"
   ]
  },
  {
   "cell_type": "markdown",
   "id": "6792dc5d",
   "metadata": {},
   "source": [
    "Compute Gradient"
   ]
  },
  {
   "cell_type": "code",
   "execution_count": 8,
   "id": "2216cd60",
   "metadata": {},
   "outputs": [],
   "source": [
    "def get_gradient(w, b, x, y):\n",
    "\n",
    "    m=len(x)\n",
    "    n=len(x[0])\n",
    "\n",
    "    dj_dw= np.zeroes(n)\n",
    "    dj_db=0\n",
    "\n",
    "    for i in range(m):\n",
    "\n",
    "        err=np.dot(x[i], w)+b-y[i]\n",
    "\n",
    "        for j in range(n):\n",
    "\n",
    "            dj_dw[j]=dj_dw[j]+err*x[i, j]\n",
    "        dj_db=dj_db+err\n",
    "\n",
    "    dj_dw=dj_dw/m\n",
    "    dj_db=dj_db/m"
   ]
  },
  {
   "cell_type": "code",
   "execution_count": null,
   "id": "047a4baa",
   "metadata": {},
   "outputs": [],
   "source": [
    "def gradient_descent(w, b, x,y):\n",
    "    "
   ]
  }
 ],
 "metadata": {
  "kernelspec": {
   "display_name": ".venv",
   "language": "python",
   "name": "python3"
  },
  "language_info": {
   "codemirror_mode": {
    "name": "ipython",
    "version": 3
   },
   "file_extension": ".py",
   "mimetype": "text/x-python",
   "name": "python",
   "nbconvert_exporter": "python",
   "pygments_lexer": "ipython3",
   "version": "3.12.0"
  }
 },
 "nbformat": 4,
 "nbformat_minor": 5
}
